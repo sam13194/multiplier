{
 "cells": [
  {
   "cell_type": "code",
   "execution_count": 118,
   "id": "cb37dc32",
   "metadata": {},
   "outputs": [],
   "source": [
    "from qiskit import *\n",
    "from qiskit.tools.visualization import *\n",
    "import math"
   ]
  },
  {
   "cell_type": "code",
   "execution_count": 119,
   "id": "e255361f",
   "metadata": {},
   "outputs": [],
   "source": [
    "def qft(circ, q,n):\n",
    "    for i in range(n//2):\n",
    "        circ.swap(q[i],q[n-i-1])\n",
    "    for j in range(n):\n",
    "        circ.h(q[j])\n",
    "        k0=1\n",
    "        for k in range(j+1,n):\n",
    "            circ.cp(math.pi/(2**k0), q[j],q[k])\n",
    "            k0= k0 +1\n",
    "def qft_inv(circ, q, n):\n",
    "    for j in reversed(range(n)):\n",
    "        k0 = n -j-1\n",
    "        for k in reversed(range(j+1, n)):\n",
    "            circ.cp(-math.pi/(2**k0), q[j], q[k])\n",
    "            k0 = k0 -1\n",
    "        circ.h(q[j])\n",
    "    for i in range(n//2):\n",
    "        circ.swap(q[i],q[n-i-1])\n",
    "        \n",
    "def crot(circ, q, n1, n2):\n",
    "    idx = -1\n",
    "    for i in range(n1):\n",
    "        idx =idx +1\n",
    "        k0 =0\n",
    "        for j in range (idx, n2):\n",
    "            circ.cp(math.pi/(2**k0),q[n1+j], q[i])\n",
    "            k0=k0+1"
   ]
  },
  {
   "cell_type": "code",
   "execution_count": 141,
   "id": "b34f0200",
   "metadata": {},
   "outputs": [],
   "source": [
    "def SumMultipler(a,b):\n",
    "    ##number1 = format(a,'b')\n",
    "    ##number2 = number1\n",
    "    number1 = format(a,'07b')\n",
    "    contador =number1\n",
    "    \n",
    "    for i in range(b):\n",
    "        #print(\"i=\",i,\", --number1: \", number1, \", --number2: \", contador)\n",
    "        number1 = number1\n",
    "        number2 = contador\n",
    "        \n",
    "        ndigits_number1 = len(number1)\n",
    "        ndigits_number2 = len(number2)\n",
    "\n",
    "        nqubits_number1 = ndigits_number1 + 0\n",
    "        nqubits_number2 = ndigits_number2\n",
    "\n",
    "        nqubits = nqubits_number1 + nqubits_number2\n",
    "        ncbits = nqubits_number1\n",
    "\n",
    "        #Setup a circuit with n_qubits and n_cbits\n",
    "        qr = QuantumRegister(nqubits,'x')\n",
    "        cr = ClassicalRegister(ncbits,'c')\n",
    "        circuit = QuantumCircuit(qr,cr)\n",
    "        for i, yesno in enumerate(reversed(number1)):\n",
    "            if yesno == '1':\n",
    "                circuit.x(i)\n",
    "\n",
    "        for i, yesno in enumerate((number2)):\n",
    "            if yesno == '1':\n",
    "                circuit.x(i+nqubits_number1)\n",
    "        circuit.barrier()\n",
    "        #Here we start to sum up every single time\n",
    "\n",
    "        qft(circuit, qr, nqubits_number1)\n",
    "        circuit.barrier()\n",
    "        crot(circuit,qr,nqubits_number1, nqubits_number2)\n",
    "        circuit.barrier()\n",
    "        qft_inv(circuit,qr,nqubits_number1)\n",
    "\n",
    "        circuit.barrier()\n",
    "        for i in range(ncbits):\n",
    "            circuit.measure(i,i)\n",
    "        simulator = Aer.get_backend('qasm_simulator')\n",
    "        result = execute(circuit, backend = simulator, shots = 1).result()\n",
    "        counts = result.get_counts()\n",
    "        contador = list(counts.keys())[0]\n",
    "        #print(\"Contaador: \", contador)\n",
    "    return(number2)\n"
   ]
  },
  {
   "cell_type": "code",
   "execution_count": 144,
   "id": "868c786b",
   "metadata": {},
   "outputs": [
    {
     "name": "stdout",
     "output_type": "stream",
     "text": [
      "This is the counter:  81\n"
     ]
    }
   ],
   "source": [
    "multiplicacion = SumMultipler(9,9)\n",
    "print(\"This is the counter: \", int(multiplicacion,2))"
   ]
  },
  {
   "cell_type": "code",
   "execution_count": null,
   "id": "c4573299",
   "metadata": {},
   "outputs": [],
   "source": []
  }
 ],
 "metadata": {
  "kernelspec": {
   "display_name": "Python 3 (ipykernel)",
   "language": "python",
   "name": "python3"
  },
  "language_info": {
   "codemirror_mode": {
    "name": "ipython",
    "version": 3
   },
   "file_extension": ".py",
   "mimetype": "text/x-python",
   "name": "python",
   "nbconvert_exporter": "python",
   "pygments_lexer": "ipython3",
   "version": "3.9.12"
  }
 },
 "nbformat": 4,
 "nbformat_minor": 5
}
